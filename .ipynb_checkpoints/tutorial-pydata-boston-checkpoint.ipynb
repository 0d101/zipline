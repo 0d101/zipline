{
 "metadata": {
  "name": "",
  "signature": "sha256:7e5a57d9f79d1d353883739f763fe143cd3ed96ad686b1e480cf3ea044639f62"
 },
 "nbformat": 3,
 "nbformat_minor": 0,
 "worksheets": [
  {
   "cells": [
    {
     "cell_type": "markdown",
     "metadata": {},
     "source": [
      "# Zipline beginner tutorial\n",
      "\n",
      "## Basics\n",
      "\n",
      "Zipline is an open-source algorithmic trading simulator written in Python.\n",
      "\n",
      "The source can be found at: https://github.com/quantopian/zipline\n",
      "\n",
      "Some benefits include:\n",
      "\n",
      "* Realistic: slippage, transaction costs, order delays.\n",
      "* Stream-based: Process each event individually, avoids look-ahead bias.\n",
      "* Batteries included: Common transforms (moving average) as well as common risk calculations (Sharpe).\n",
      "* Developed and continuously updated by [Quantopian](https://www.quantopian.com) which provides an easy-to-use web-interface to Zipline, 10 years of minute-resolution historical US stock data, and live-trading capabilities. This tutorial is directed at users wishing to use Zipline without using Quantopian. If you instead want to get started on Quantopian, see [here](https://www.quantopian.com/faq#get-started).\n",
      "\n",
      "This tutorial assumes that you have zipline correctly installed, see the [installation instructions](https://github.com/quantopian/zipline#installation) if you haven't set up zipline yet.\n",
      "\n",
      "Every `zipline` algorithm consists of two functions you have to define:\n",
      "* `initialize(context)`\n",
      "* `handle_data(context, data)`\n",
      "\n",
      "Before the start of the algorithm, `zipline` calls the `initialize()` function and passes in a `context` variable. `context` is a persistent namespace for you to store variables you need to access from one algorithm iteration to the next.\n",
      "\n",
      "After the algorithm has been initialized, `zipline` calls the `handle_data()` function once for each event. At every call, it passes the same `context` variable and an event-frame called `data` containing the current trading bar with open, high, low, and close (OHLC) prices as well as volume for each stock in your universe. For more information on these functions, see the [relevant part of the Quantopian docs](https://www.quantopian.com/help#api-toplevel)."
     ]
    },
    {
     "cell_type": "markdown",
     "metadata": {},
     "source": [
      "## My first algorithm\n",
      "\n",
      "Lets take a look at a very simple algorithm from the `examples` directory, `buyapple.py`:"
     ]
    },
    {
     "cell_type": "code",
     "collapsed": false,
     "input": [
      "!tail ../zipline/examples/buyapple.py"
     ],
     "language": "python",
     "metadata": {},
     "outputs": [
      {
       "output_type": "stream",
       "stream": "stdout",
       "text": [
        "from zipline.api import order, record, symbol\r\n",
        "\r\n",
        "\r\n",
        "def initialize(context):\r\n",
        "    pass\r\n",
        "\r\n",
        "\r\n",
        "def handle_data(context, data):\r\n",
        "    order(symbol('AAPL'), 10)\r\n",
        "    record(AAPL=data[symbol('AAPL')].price)\r\n"
       ]
      }
     ],
     "prompt_number": 1
    },
    {
     "cell_type": "markdown",
     "metadata": {},
     "source": [
      "As you can see, we first have to import some functions we would like to use. All functions commonly used in your algorithm can be found in `zipline.api`. Here we are using `order()` which takes two arguments -- a security object, and a number specifying how many stocks you would like to order (if negative, `order()` will sell/short stocks). In this case we want to order 10 shares of Apple at each iteration. For more documentation on `order()`, see the [Quantopian docs](https://www.quantopian.com/help#api-order).\n",
      "\n",
      "You don't have to use the `symbol()` function and could just pass in `AAPL` directly but it is good practice as this way your code will be Quantopian compatible.\n",
      "\n",
      "Finally, the `record()` function allows you to save the value of a variable at each iteration. You provide it with a name for the variable together with the variable itself: `varname=var`. After the algorithm finished running you will have access to each variable value you tracked with `record()` under the name you provided (we will see this further below). You also see how we can access the current price data of the AAPL stock in the `data` event frame (for more information see [here](https://www.quantopian.com/help#api-event-properties)."
     ]
    },
    {
     "cell_type": "markdown",
     "metadata": {},
     "source": [
      "## Running the algorithm\n",
      "\n",
      "To now test this algorithm on financial data, `zipline` provides two interfaces. A command-line interface and an `IPython Notebook` interface.\n",
      "\n",
      "### Command line interface\n",
      "After you installed zipline you should be able to execute the following from your command line (e.g. `cmd.exe` on Windows, or the Terminal app on OSX):"
     ]
    },
    {
     "cell_type": "code",
     "collapsed": false,
     "input": [
      "!run_algo.py --help"
     ],
     "language": "python",
     "metadata": {},
     "outputs": [
      {
       "output_type": "stream",
       "stream": "stdout",
       "text": [
        "usage: run_algo.py [-h] [-c FILE] [--algofile ALGOFILE] [--data-frequency {minute,daily}] [--start START] [--end END]\r\n",
        "                   [--capital_base CAPITAL_BASE] [--source {yahoo}] [--symbols SYMBOLS] [--output OUTPUT]\r\n",
        "\r\n",
        "Zipline version 0.6.1.\r\n",
        "\r\n",
        "optional arguments:\r\n",
        "  -h, --help            show this help message and exit\r\n",
        "  -c FILE, --conf_file FILE\r\n",
        "                        Specify config file\r\n",
        "  --algofile ALGOFILE, -f ALGOFILE\r\n",
        "  --data-frequency {minute,daily}\r\n",
        "  --start START, -s START\r\n",
        "  --end END, -e END\r\n",
        "  --capital_base CAPITAL_BASE\r\n",
        "  --source {yahoo}\r\n",
        "  --symbols SYMBOLS\r\n",
        "  --output OUTPUT, -o OUTPUT\r\n"
       ]
      }
     ],
     "prompt_number": 2
    },
    {
     "cell_type": "markdown",
     "metadata": {},
     "source": [
      "Note that you have to omit the preceding '!' when you call `run_algo.py`, this is only required by the IPython Notebook in which this tutorial was written.\n",
      "\n",
      "As you can see there are a couple of flags that specify where to find your algorithm (`-f`) as well as parameters specifying which stock data to load from Yahoo! finance (`--symbols`) and the time-range (`--start` and `--end`). Finally, you'll want to save the performance metrics of your algorithm so that you can analyze how it performed. This is done via the `--output` flag and will cause it to write the performance `DataFrame` in the pickle Python file format. Note that you can also define a configuration file with these parameters that you can then conveniently pass to the `-c` option so that you don't have to supply the command line args all the time (see the .conf files in the examples directory).\n",
      "\n",
      "Thus, to execute our algorithm from above and save the results to `buyapple_out.pickle` we would call `run_algo.py` as follows:"
     ]
    },
    {
     "cell_type": "code",
     "collapsed": false,
     "input": [
      "!run_algo.py -f ../zipline/examples/buyapple.py --start 2000-1-1 --end 2014-1-1 --symbols AAPL -o buyapple_out.pickle"
     ],
     "language": "python",
     "metadata": {},
     "outputs": [
      {
       "output_type": "stream",
       "stream": "stdout",
       "text": [
        "AAPL\r\n"
       ]
      },
      {
       "output_type": "stream",
       "stream": "stdout",
       "text": [
        "\u001b[37m#!/usr/bin/env python\u001b[39;49;00m\r\n",
        "\u001b[37m#\u001b[39;49;00m\r\n",
        "\u001b[37m# Copyright 2014 Quantopian, Inc.\u001b[39;49;00m\r\n",
        "\u001b[37m#\u001b[39;49;00m\r\n",
        "\u001b[37m# Licensed under the Apache License, Version 2.0 (the \"License\");\u001b[39;49;00m\r\n",
        "\u001b[37m# you may not use this file except in compliance with the License.\u001b[39;49;00m\r\n",
        "\u001b[37m# You may obtain a copy of the License at\u001b[39;49;00m\r\n",
        "\u001b[37m#\u001b[39;49;00m\r\n",
        "\u001b[37m#     http://www.apache.org/licenses/LICENSE-2.0\u001b[39;49;00m\r\n",
        "\u001b[37m#\u001b[39;49;00m\r\n",
        "\u001b[37m# Unless required by applicable law or agreed to in writing, software\u001b[39;49;00m\r\n",
        "\u001b[37m# distributed under the License is distributed on an \"AS IS\" BASIS,\u001b[39;49;00m\r\n",
        "\u001b[37m# WITHOUT WARRANTIES OR CONDITIONS OF ANY KIND, either express or implied.\u001b[39;49;00m\r\n",
        "\u001b[37m# See the License for the specific language governing permissions and\u001b[39;49;00m\r\n",
        "\u001b[37m# limitations under the License.\u001b[39;49;00m\r\n",
        "\r\n",
        "\u001b[34mfrom\u001b[39;49;00m \u001b[39;49;00m\u001b[04m\u001b[36mzipline.api\u001b[39;49;00m \u001b[39;49;00m\u001b[34mimport\u001b[39;49;00m \u001b[39;49;00morder\u001b[39;49;00m,\u001b[39;49;00m \u001b[39;49;00mrecord\u001b[39;49;00m,\u001b[39;49;00m \u001b[39;49;00msymbol\u001b[39;49;00m\r\n",
        "\r\n",
        "\r\n",
        "\u001b[34mdef\u001b[39;49;00m \u001b[39;49;00m\u001b[32minitialize\u001b[39;49;00m(\u001b[39;49;00mcontext\u001b[39;49;00m)\u001b[39;49;00m:\u001b[39;49;00m\r\n",
        "    \u001b[39;49;00m\u001b[34mpass\u001b[39;49;00m\r\n",
        "\r\n",
        "\r\n",
        "\u001b[34mdef\u001b[39;49;00m \u001b[39;49;00m\u001b[32mhandle_data\u001b[39;49;00m(\u001b[39;49;00mcontext\u001b[39;49;00m,\u001b[39;49;00m \u001b[39;49;00mdata\u001b[39;49;00m)\u001b[39;49;00m:\u001b[39;49;00m\r\n",
        "    \u001b[39;49;00morder\u001b[39;49;00m(\u001b[39;49;00msymbol\u001b[39;49;00m(\u001b[39;49;00m\u001b[33m'\u001b[39;49;00m\u001b[33mAAPL\u001b[39;49;00m\u001b[33m'\u001b[39;49;00m)\u001b[39;49;00m,\u001b[39;49;00m \u001b[39;49;00m\u001b[34m10\u001b[39;49;00m)\u001b[39;49;00m\r\n",
        "    \u001b[39;49;00mrecord\u001b[39;49;00m(\u001b[39;49;00mAAPL\u001b[39;49;00m=\u001b[39;49;00mdata\u001b[39;49;00m[\u001b[39;49;00msymbol\u001b[39;49;00m(\u001b[39;49;00m\u001b[33m'\u001b[39;49;00m\u001b[33mAAPL\u001b[39;49;00m\u001b[33m'\u001b[39;49;00m)\u001b[39;49;00m]\u001b[39;49;00m.\u001b[39;49;00mprice\u001b[39;49;00m)\u001b[39;49;00m\r\n",
        "\u001b[34mimport\u001b[39;49;00m \u001b[39;49;00m\u001b[04m\u001b[36mmatplotlib.pyplot\u001b[39;49;00m \u001b[39;49;00m\u001b[34mas\u001b[39;49;00m \u001b[39;49;00m\u001b[04m\u001b[36mplt\u001b[39;49;00m\r\n",
        "\r\n",
        "\r\n",
        "\u001b[34mdef\u001b[39;49;00m \u001b[39;49;00m\u001b[32manalyze\u001b[39;49;00m(\u001b[39;49;00mcontext\u001b[39;49;00m,\u001b[39;49;00m \u001b[39;49;00mperf\u001b[39;49;00m)\u001b[39;49;00m:\u001b[39;49;00m\r\n",
        "    \u001b[39;49;00max1\u001b[39;49;00m \u001b[39;49;00m=\u001b[39;49;00m \u001b[39;49;00mplt\u001b[39;49;00m.\u001b[39;49;00msubplot\u001b[39;49;00m(\u001b[39;49;00m\u001b[34m211\u001b[39;49;00m)\u001b[39;49;00m\r\n",
        "    \u001b[39;49;00mperf\u001b[39;49;00m.\u001b[39;49;00mportfolio_value\u001b[39;49;00m.\u001b[39;49;00mplot\u001b[39;49;00m(\u001b[39;49;00max\u001b[39;49;00m=\u001b[39;49;00max1\u001b[39;49;00m)\u001b[39;49;00m\r\n",
        "    \u001b[39;49;00max2\u001b[39;49;00m \u001b[39;49;00m=\u001b[39;49;00m \u001b[39;49;00mplt\u001b[39;49;00m.\u001b[39;49;00msubplot\u001b[39;49;00m(\u001b[39;49;00m\u001b[34m212\u001b[39;49;00m,\u001b[39;49;00m \u001b[39;49;00msharex\u001b[39;49;00m=\u001b[39;49;00max1\u001b[39;49;00m)\u001b[39;49;00m\r\n",
        "    \u001b[39;49;00mperf\u001b[39;49;00m.\u001b[39;49;00mAAPL\u001b[39;49;00m.\u001b[39;49;00mplot\u001b[39;49;00m(\u001b[39;49;00max\u001b[39;49;00m=\u001b[39;49;00max2\u001b[39;49;00m)\u001b[39;49;00m\r\n",
        "    \u001b[39;49;00mplt\u001b[39;49;00m.\u001b[39;49;00mgcf\u001b[39;49;00m(\u001b[39;49;00m)\u001b[39;49;00m.\u001b[39;49;00mset_size_inches\u001b[39;49;00m(\u001b[39;49;00m\u001b[34m18\u001b[39;49;00m,\u001b[39;49;00m \u001b[39;49;00m\u001b[34m8\u001b[39;49;00m)\u001b[39;49;00m\r\n",
        "    \u001b[39;49;00mplt\u001b[39;49;00m.\u001b[39;49;00mshow\u001b[39;49;00m(\u001b[39;49;00m)\u001b[39;49;00m\r\n"
       ]
      },
      {
       "output_type": "stream",
       "stream": "stdout",
       "text": [
        "[2014-07-25 17:50] INFO: Performance: Simulated 3521 trading days out of 3521.\r\n",
        "[2014-07-25 17:50] INFO: Performance: first open: 2000-01-03 14:31:00+00:00\r\n",
        "[2014-07-25 17:50] INFO: Performance: last close: 2013-12-31 21:00:00+00:00\r\n"
       ]
      }
     ],
     "prompt_number": 14
    },
    {
     "cell_type": "markdown",
     "metadata": {},
     "source": [
      "`run_algo.py` first outputs the algorithm contents. It then fetches historical price and volume data of Apple from Yahoo! finance in the desired time range, calls the `initialize()` function, and then streams the historical stock price day-by-day through `handle_data()`. After each call to `handle_data()` we instruct `zipline` to order 10 stocks of AAPL. After the call of the `order()` function, `zipline` enters the ordered stock and amount in the order book. After the `handle_data()` function has finished, `zipline` looks for any open orders and tries to fill them. If the trading volume is high enough for this stock, the order is executed after adding the commission and applying the slippage model which models the influence of your order on the stock price, so your algorithm will be charged more than just the stock price * 10. (Note, that you can also change the commission and slippage model that `zipline` uses, see the [Quantopian docs](https://www.quantopian.com/help#ide-slippage) for more information).\n",
      "\n",
      "Note that there is also an `analyze()` function printed. `run_algo.py` will try and look for a file with the ending with `_analyze.py` and the same name of the algorithm (so `buyapple_analyze.py`) or an `analyze()` function directly in the script. If an `analyze()` function is found it will be called *after* the simulation has finished and passed in the performance `DataFrame`. (The reason for allowing specification of an `analyze()` function in a separate file is that this way `buyapple.py` remains a valid Quantopian algorithm that you can copy&paste to the platform).\n",
      "\n",
      "Lets take a quick look at the performance `DataFrame`. For this, we use `pandas` from inside the IPython Notebook and print the first ten rows. Note that `zipline` makes heavy usage of `pandas`, especially for data input and outputting so it's worth spending some time to learn it."
     ]
    },
    {
     "cell_type": "code",
     "collapsed": false,
     "input": [
      "import pandas as pd\n",
      "perf = pd.read_pickle('buyapple_out.pickle') # read in perf DataFrame\n",
      "perf.head()"
     ],
     "language": "python",
     "metadata": {},
     "outputs": [
      {
       "html": [
        "<div style=\"max-height:1000px;max-width:1500px;overflow:auto;\">\n",
        "<table border=\"1\" class=\"dataframe\">\n",
        "  <thead>\n",
        "    <tr style=\"text-align: right;\">\n",
        "      <th></th>\n",
        "      <th>AAPL</th>\n",
        "      <th>capital_used</th>\n",
        "      <th>ending_cash</th>\n",
        "      <th>ending_value</th>\n",
        "      <th>orders</th>\n",
        "      <th>period_close</th>\n",
        "      <th>period_open</th>\n",
        "      <th>pnl</th>\n",
        "      <th>portfolio_value</th>\n",
        "      <th>positions</th>\n",
        "      <th>returns</th>\n",
        "      <th>starting_cash</th>\n",
        "      <th>starting_value</th>\n",
        "      <th>transactions</th>\n",
        "    </tr>\n",
        "  </thead>\n",
        "  <tbody>\n",
        "    <tr>\n",
        "      <th>2000-01-03 21:00:00</th>\n",
        "      <td> 3.82</td>\n",
        "      <td>  0.0</td>\n",
        "      <td> 10000000.0</td>\n",
        "      <td>   0.0</td>\n",
        "      <td> [{u'status': 0, u'limit_reached': False, u'cre...</td>\n",
        "      <td> 2000-01-03 21:00:00+00:00</td>\n",
        "      <td> 2000-01-03 14:31:00+00:00</td>\n",
        "      <td> 0.0</td>\n",
        "      <td> 10000000.0</td>\n",
        "      <td>                                                []</td>\n",
        "      <td> 0.000000e+00</td>\n",
        "      <td> 10000000.0</td>\n",
        "      <td>  0.0</td>\n",
        "      <td>                                                []</td>\n",
        "    </tr>\n",
        "    <tr>\n",
        "      <th>2000-01-04 21:00:00</th>\n",
        "      <td> 3.50</td>\n",
        "      <td>-35.3</td>\n",
        "      <td>  9999964.7</td>\n",
        "      <td>  35.0</td>\n",
        "      <td> [{u'status': 1, u'limit_reached': False, u'cre...</td>\n",
        "      <td> 2000-01-04 21:00:00+00:00</td>\n",
        "      <td> 2000-01-04 14:31:00+00:00</td>\n",
        "      <td>-0.3</td>\n",
        "      <td>  9999999.7</td>\n",
        "      <td> [{u'amount': 10, u'last_sale_price': 3.5, u'co...</td>\n",
        "      <td>-3.000000e-08</td>\n",
        "      <td> 10000000.0</td>\n",
        "      <td>  0.0</td>\n",
        "      <td> [{u'order_id': u'a52893c358834d60a09c7865d6779...</td>\n",
        "    </tr>\n",
        "    <tr>\n",
        "      <th>2000-01-05 21:00:00</th>\n",
        "      <td> 3.55</td>\n",
        "      <td>-35.8</td>\n",
        "      <td>  9999928.9</td>\n",
        "      <td>  71.0</td>\n",
        "      <td> [{u'status': 1, u'limit_reached': False, u'cre...</td>\n",
        "      <td> 2000-01-05 21:00:00+00:00</td>\n",
        "      <td> 2000-01-05 14:31:00+00:00</td>\n",
        "      <td> 0.2</td>\n",
        "      <td>  9999999.9</td>\n",
        "      <td> [{u'amount': 20, u'last_sale_price': 3.55, u'c...</td>\n",
        "      <td> 2.000000e-08</td>\n",
        "      <td>  9999964.7</td>\n",
        "      <td> 35.0</td>\n",
        "      <td> [{u'order_id': u'0e6af58f1f6b4cc9b55f896b05532...</td>\n",
        "    </tr>\n",
        "    <tr>\n",
        "      <th>2000-01-06 21:00:00</th>\n",
        "      <td> 3.24</td>\n",
        "      <td>-32.7</td>\n",
        "      <td>  9999896.2</td>\n",
        "      <td>  97.2</td>\n",
        "      <td> [{u'status': 1, u'limit_reached': False, u'cre...</td>\n",
        "      <td> 2000-01-06 21:00:00+00:00</td>\n",
        "      <td> 2000-01-06 14:31:00+00:00</td>\n",
        "      <td>-6.5</td>\n",
        "      <td>  9999993.4</td>\n",
        "      <td> [{u'amount': 30, u'last_sale_price': 3.24, u'c...</td>\n",
        "      <td>-6.500000e-07</td>\n",
        "      <td>  9999928.9</td>\n",
        "      <td> 71.0</td>\n",
        "      <td> [{u'order_id': u'f27eb86362e641b7a7ba2b8e76e33...</td>\n",
        "    </tr>\n",
        "    <tr>\n",
        "      <th>2000-01-07 21:00:00</th>\n",
        "      <td> 3.40</td>\n",
        "      <td>-34.3</td>\n",
        "      <td>  9999861.9</td>\n",
        "      <td> 136.0</td>\n",
        "      <td> [{u'status': 1, u'limit_reached': False, u'cre...</td>\n",
        "      <td> 2000-01-07 21:00:00+00:00</td>\n",
        "      <td> 2000-01-07 14:31:00+00:00</td>\n",
        "      <td> 4.5</td>\n",
        "      <td>  9999997.9</td>\n",
        "      <td> [{u'amount': 40, u'last_sale_price': 3.4, u'co...</td>\n",
        "      <td> 4.500003e-07</td>\n",
        "      <td>  9999896.2</td>\n",
        "      <td> 97.2</td>\n",
        "      <td> [{u'order_id': u'9e5ef91c4c3c40cdbb49220e10dd5...</td>\n",
        "    </tr>\n",
        "  </tbody>\n",
        "</table>\n",
        "</div>"
       ],
       "metadata": {},
       "output_type": "pyout",
       "prompt_number": 15,
       "text": [
        "                     AAPL  capital_used  ending_cash  ending_value  \\\n",
        "2000-01-03 21:00:00  3.82           0.0   10000000.0           0.0   \n",
        "2000-01-04 21:00:00  3.50         -35.3    9999964.7          35.0   \n",
        "2000-01-05 21:00:00  3.55         -35.8    9999928.9          71.0   \n",
        "2000-01-06 21:00:00  3.24         -32.7    9999896.2          97.2   \n",
        "2000-01-07 21:00:00  3.40         -34.3    9999861.9         136.0   \n",
        "\n",
        "                                                                orders  \\\n",
        "2000-01-03 21:00:00  [{u'status': 0, u'limit_reached': False, u'cre...   \n",
        "2000-01-04 21:00:00  [{u'status': 1, u'limit_reached': False, u'cre...   \n",
        "2000-01-05 21:00:00  [{u'status': 1, u'limit_reached': False, u'cre...   \n",
        "2000-01-06 21:00:00  [{u'status': 1, u'limit_reached': False, u'cre...   \n",
        "2000-01-07 21:00:00  [{u'status': 1, u'limit_reached': False, u'cre...   \n",
        "\n",
        "                                  period_close                period_open  \\\n",
        "2000-01-03 21:00:00  2000-01-03 21:00:00+00:00  2000-01-03 14:31:00+00:00   \n",
        "2000-01-04 21:00:00  2000-01-04 21:00:00+00:00  2000-01-04 14:31:00+00:00   \n",
        "2000-01-05 21:00:00  2000-01-05 21:00:00+00:00  2000-01-05 14:31:00+00:00   \n",
        "2000-01-06 21:00:00  2000-01-06 21:00:00+00:00  2000-01-06 14:31:00+00:00   \n",
        "2000-01-07 21:00:00  2000-01-07 21:00:00+00:00  2000-01-07 14:31:00+00:00   \n",
        "\n",
        "                     pnl  portfolio_value  \\\n",
        "2000-01-03 21:00:00  0.0       10000000.0   \n",
        "2000-01-04 21:00:00 -0.3        9999999.7   \n",
        "2000-01-05 21:00:00  0.2        9999999.9   \n",
        "2000-01-06 21:00:00 -6.5        9999993.4   \n",
        "2000-01-07 21:00:00  4.5        9999997.9   \n",
        "\n",
        "                                                             positions  \\\n",
        "2000-01-03 21:00:00                                                 []   \n",
        "2000-01-04 21:00:00  [{u'amount': 10, u'last_sale_price': 3.5, u'co...   \n",
        "2000-01-05 21:00:00  [{u'amount': 20, u'last_sale_price': 3.55, u'c...   \n",
        "2000-01-06 21:00:00  [{u'amount': 30, u'last_sale_price': 3.24, u'c...   \n",
        "2000-01-07 21:00:00  [{u'amount': 40, u'last_sale_price': 3.4, u'co...   \n",
        "\n",
        "                          returns  starting_cash  starting_value  \\\n",
        "2000-01-03 21:00:00  0.000000e+00     10000000.0             0.0   \n",
        "2000-01-04 21:00:00 -3.000000e-08     10000000.0             0.0   \n",
        "2000-01-05 21:00:00  2.000000e-08      9999964.7            35.0   \n",
        "2000-01-06 21:00:00 -6.500000e-07      9999928.9            71.0   \n",
        "2000-01-07 21:00:00  4.500003e-07      9999896.2            97.2   \n",
        "\n",
        "                                                          transactions  \n",
        "2000-01-03 21:00:00                                                 []  \n",
        "2000-01-04 21:00:00  [{u'order_id': u'a52893c358834d60a09c7865d6779...  \n",
        "2000-01-05 21:00:00  [{u'order_id': u'0e6af58f1f6b4cc9b55f896b05532...  \n",
        "2000-01-06 21:00:00  [{u'order_id': u'f27eb86362e641b7a7ba2b8e76e33...  \n",
        "2000-01-07 21:00:00  [{u'order_id': u'9e5ef91c4c3c40cdbb49220e10dd5...  "
       ]
      }
     ],
     "prompt_number": 15
    },
    {
     "cell_type": "markdown",
     "metadata": {},
     "source": [
      "As you can see, there is a row for each trading day, starting on the first business day of 2000. In the columns you can find various information about the state of your algorithm. The very first column `AAPL` was placed there by the `record()` function mentioned earlier and allows us to plot the price of apple. For example, we could easily examine now how our portfolio value changed over time compared to the AAPL stock price."
     ]
    },
    {
     "cell_type": "code",
     "collapsed": false,
     "input": [
      "%pylab inline\n",
      "figsize(12, 12)\n",
      "import matplotlib.pyplot as plt\n",
      "\n",
      "ax1 = plt.subplot(211)\n",
      "perf.portfolio_value.plot(ax=ax1)\n",
      "ax1.set_ylabel('portfolio value')\n",
      "ax2 = plt.subplot(212, sharex=ax1)\n",
      "perf.AAPL.plot(ax=ax2)\n",
      "ax2.set_ylabel('AAPL stock price')"
     ],
     "language": "python",
     "metadata": {},
     "outputs": [
      {
       "output_type": "stream",
       "stream": "stdout",
       "text": [
        "Populating the interactive namespace from numpy and matplotlib\n"
       ]
      },
      {
       "metadata": {},
       "output_type": "pyout",
       "prompt_number": 16,
       "text": [
        "<matplotlib.text.Text at 0x7f6ab416b250>"
       ]
      },
      {
       "metadata": {},
       "output_type": "display_data",
       "png": "[encoded data removed]",
       "text": [
        "<matplotlib.figure.Figure at 0x7f6ab5621490>"
       ]
      }
     ],
     "prompt_number": 16
    },
    {
     "cell_type": "markdown",
     "metadata": {},
     "source": [
      "As you can see, our algorithm performance as assessed by the `portfolio_value` closely matches that of the AAPL stock price. This is not surprising as our algorithm only bought AAPL every chance it got."
     ]
    },
    {
     "cell_type": "markdown",
     "metadata": {},
     "source": [
      "### IPython Notebook\n",
      "\n",
      "The [IPython Notebook](http://ipython.org/notebook.html) is a very powerful browser-based interface to a Python interpreter (this tutorial was written in it). As it is already the de-facto interface for most quantitative researchers `zipline` provides an easy way to run your algorithm inside the Notebook without requiring you to use the CLI. \n",
      "\n",
      "To use it you have to write your algorithm in a cell and let `zipline` know that it is supposed to run this algorithm. This is done via the `%%zipline` IPython magic command that is available after you `import zipline` from within the IPython Notebook. This magic takes the same arguments as the command line interface described above. Thus to run the algorithm from above with the same parameters we just have to execute the following cell after importing `zipline` to register the magic."
     ]
    },
    {
     "cell_type": "code",
     "collapsed": false,
     "input": [
      "import zipline"
     ],
     "language": "python",
     "metadata": {},
     "outputs": [],
     "prompt_number": 2
    },
    {
     "cell_type": "code",
     "collapsed": false,
     "input": [
      "%%zipline --start 2000-1-1 --end 2014-1-1 --symbols AAPL -o perf_ipython\n",
      "\n",
      "from zipline.api import symbol, order, record\n",
      "\n",
      "def initialize(context):\n",
      "    pass\n",
      "\n",
      "def handle_data(context, data):\n",
      "    order(symbol('AAPL'), 10)\n",
      "    record(AAPL=data[symbol('AAPL')].price)"
     ],
     "language": "python",
     "metadata": {},
     "outputs": [
      {
       "output_type": "stream",
       "stream": "stderr",
       "text": [
        "[2014-07-25 17:11] INFO: Performance: Simulated 3019 trading days out of 3019.\n"
       ]
      },
      {
       "output_type": "stream",
       "stream": "stderr",
       "text": [
        "[2014-07-25 17:11] INFO: Performance: first open: 2000-01-03 14:31:00+00:00\n"
       ]
      },
      {
       "output_type": "stream",
       "stream": "stderr",
       "text": [
        "[2014-07-25 17:11] INFO: Performance: last close: 2011-12-30 21:00:00+00:00\n"
       ]
      },
      {
       "output_type": "stream",
       "stream": "stdout",
       "text": [
        "AAPL\n"
       ]
      }
     ],
     "prompt_number": 7
    },
    {
     "cell_type": "markdown",
     "metadata": {},
     "source": [
      "Note that we did not have to specify an input file as above since the magic will use the contents of the cell and look for your algorithm functions there. Also, instead of defining an output file we are specifying a variable name with `-o` that will be created in the name space and contain the performance `DataFrame` we looked at above."
     ]
    },
    {
     "cell_type": "code",
     "collapsed": false,
     "input": [
      "perf_ipython.head()"
     ],
     "language": "python",
     "metadata": {},
     "outputs": [
      {
       "html": [
        "<div style=\"max-height:1000px;max-width:1500px;overflow:auto;\">\n",
        "<table border=\"1\" class=\"dataframe\">\n",
        "  <thead>\n",
        "    <tr style=\"text-align: right;\">\n",
        "      <th></th>\n",
        "      <th>AAPL</th>\n",
        "      <th>capital_used</th>\n",
        "      <th>ending_cash</th>\n",
        "      <th>ending_value</th>\n",
        "      <th>orders</th>\n",
        "      <th>period_close</th>\n",
        "      <th>period_open</th>\n",
        "      <th>pnl</th>\n",
        "      <th>portfolio_value</th>\n",
        "      <th>positions</th>\n",
        "      <th>returns</th>\n",
        "      <th>starting_cash</th>\n",
        "      <th>starting_value</th>\n",
        "      <th>transactions</th>\n",
        "    </tr>\n",
        "  </thead>\n",
        "  <tbody>\n",
        "    <tr>\n",
        "      <th>2000-01-03 21:00:00</th>\n",
        "      <td> 26.75</td>\n",
        "      <td>   0.0</td>\n",
        "      <td> 10000000.0</td>\n",
        "      <td>   0.0</td>\n",
        "      <td> [{u'status': 0, u'created': 2000-01-03 00:00:0...</td>\n",
        "      <td> 2000-01-03 21:00:00+00:00</td>\n",
        "      <td> 2000-01-03 14:31:00+00:00</td>\n",
        "      <td>  0.0</td>\n",
        "      <td> 10000000.0</td>\n",
        "      <td>                                                []</td>\n",
        "      <td> 0.000000e+00</td>\n",
        "      <td> 10000000.0</td>\n",
        "      <td>   0.0</td>\n",
        "      <td>                                                []</td>\n",
        "    </tr>\n",
        "    <tr>\n",
        "      <th>2000-01-04 21:00:00</th>\n",
        "      <td> 24.49</td>\n",
        "      <td>-245.2</td>\n",
        "      <td>  9999754.8</td>\n",
        "      <td> 244.9</td>\n",
        "      <td> [{u'status': 1, u'created': 2000-01-03 00:00:0...</td>\n",
        "      <td> 2000-01-04 21:00:00+00:00</td>\n",
        "      <td> 2000-01-04 14:31:00+00:00</td>\n",
        "      <td> -0.3</td>\n",
        "      <td>  9999999.7</td>\n",
        "      <td> [{u'amount': 10, u'last_sale_price': 24.49, u'...</td>\n",
        "      <td>-3.000000e-08</td>\n",
        "      <td> 10000000.0</td>\n",
        "      <td>   0.0</td>\n",
        "      <td> [{u'commission': 0.3, u'amount': 10, u'sid': u...</td>\n",
        "    </tr>\n",
        "    <tr>\n",
        "      <th>2000-01-05 21:00:00</th>\n",
        "      <td> 24.85</td>\n",
        "      <td>-248.8</td>\n",
        "      <td>  9999506.0</td>\n",
        "      <td> 497.0</td>\n",
        "      <td> [{u'status': 1, u'created': 2000-01-04 00:00:0...</td>\n",
        "      <td> 2000-01-05 21:00:00+00:00</td>\n",
        "      <td> 2000-01-05 14:31:00+00:00</td>\n",
        "      <td>  3.3</td>\n",
        "      <td> 10000003.0</td>\n",
        "      <td> [{u'amount': 20, u'last_sale_price': 24.85, u'...</td>\n",
        "      <td> 3.300000e-07</td>\n",
        "      <td>  9999754.8</td>\n",
        "      <td> 244.9</td>\n",
        "      <td> [{u'commission': 0.3, u'amount': 10, u'sid': u...</td>\n",
        "    </tr>\n",
        "    <tr>\n",
        "      <th>2000-01-06 21:00:00</th>\n",
        "      <td> 22.70</td>\n",
        "      <td>-227.3</td>\n",
        "      <td>  9999278.7</td>\n",
        "      <td> 681.0</td>\n",
        "      <td> [{u'status': 1, u'created': 2000-01-05 00:00:0...</td>\n",
        "      <td> 2000-01-06 21:00:00+00:00</td>\n",
        "      <td> 2000-01-06 14:31:00+00:00</td>\n",
        "      <td>-43.3</td>\n",
        "      <td>  9999959.7</td>\n",
        "      <td> [{u'amount': 30, u'last_sale_price': 22.7, u'c...</td>\n",
        "      <td>-4.329999e-06</td>\n",
        "      <td>  9999506.0</td>\n",
        "      <td> 497.0</td>\n",
        "      <td> [{u'commission': 0.3, u'amount': 10, u'sid': u...</td>\n",
        "    </tr>\n",
        "    <tr>\n",
        "      <th>2000-01-07 21:00:00</th>\n",
        "      <td> 23.78</td>\n",
        "      <td>-238.1</td>\n",
        "      <td>  9999040.6</td>\n",
        "      <td> 951.2</td>\n",
        "      <td> [{u'status': 1, u'created': 2000-01-06 00:00:0...</td>\n",
        "      <td> 2000-01-07 21:00:00+00:00</td>\n",
        "      <td> 2000-01-07 14:31:00+00:00</td>\n",
        "      <td> 32.1</td>\n",
        "      <td>  9999991.8</td>\n",
        "      <td> [{u'amount': 40, u'last_sale_price': 23.78, u'...</td>\n",
        "      <td> 3.210013e-06</td>\n",
        "      <td>  9999278.7</td>\n",
        "      <td> 681.0</td>\n",
        "      <td> [{u'commission': 0.3, u'amount': 10, u'sid': u...</td>\n",
        "    </tr>\n",
        "  </tbody>\n",
        "</table>\n",
        "</div>"
       ],
       "metadata": {},
       "output_type": "pyout",
       "prompt_number": 8,
       "text": [
        "                      AAPL  capital_used  ending_cash  ending_value  \\\n",
        "2000-01-03 21:00:00  26.75           0.0   10000000.0           0.0   \n",
        "2000-01-04 21:00:00  24.49        -245.2    9999754.8         244.9   \n",
        "2000-01-05 21:00:00  24.85        -248.8    9999506.0         497.0   \n",
        "2000-01-06 21:00:00  22.70        -227.3    9999278.7         681.0   \n",
        "2000-01-07 21:00:00  23.78        -238.1    9999040.6         951.2   \n",
        "\n",
        "                                                                orders  \\\n",
        "2000-01-03 21:00:00  [{u'status': 0, u'created': 2000-01-03 00:00:0...   \n",
        "2000-01-04 21:00:00  [{u'status': 1, u'created': 2000-01-03 00:00:0...   \n",
        "2000-01-05 21:00:00  [{u'status': 1, u'created': 2000-01-04 00:00:0...   \n",
        "2000-01-06 21:00:00  [{u'status': 1, u'created': 2000-01-05 00:00:0...   \n",
        "2000-01-07 21:00:00  [{u'status': 1, u'created': 2000-01-06 00:00:0...   \n",
        "\n",
        "                                  period_close                period_open  \\\n",
        "2000-01-03 21:00:00  2000-01-03 21:00:00+00:00  2000-01-03 14:31:00+00:00   \n",
        "2000-01-04 21:00:00  2000-01-04 21:00:00+00:00  2000-01-04 14:31:00+00:00   \n",
        "2000-01-05 21:00:00  2000-01-05 21:00:00+00:00  2000-01-05 14:31:00+00:00   \n",
        "2000-01-06 21:00:00  2000-01-06 21:00:00+00:00  2000-01-06 14:31:00+00:00   \n",
        "2000-01-07 21:00:00  2000-01-07 21:00:00+00:00  2000-01-07 14:31:00+00:00   \n",
        "\n",
        "                      pnl  portfolio_value  \\\n",
        "2000-01-03 21:00:00   0.0       10000000.0   \n",
        "2000-01-04 21:00:00  -0.3        9999999.7   \n",
        "2000-01-05 21:00:00   3.3       10000003.0   \n",
        "2000-01-06 21:00:00 -43.3        9999959.7   \n",
        "2000-01-07 21:00:00  32.1        9999991.8   \n",
        "\n",
        "                                                             positions  \\\n",
        "2000-01-03 21:00:00                                                 []   \n",
        "2000-01-04 21:00:00  [{u'amount': 10, u'last_sale_price': 24.49, u'...   \n",
        "2000-01-05 21:00:00  [{u'amount': 20, u'last_sale_price': 24.85, u'...   \n",
        "2000-01-06 21:00:00  [{u'amount': 30, u'last_sale_price': 22.7, u'c...   \n",
        "2000-01-07 21:00:00  [{u'amount': 40, u'last_sale_price': 23.78, u'...   \n",
        "\n",
        "                          returns  starting_cash  starting_value  \\\n",
        "2000-01-03 21:00:00  0.000000e+00     10000000.0             0.0   \n",
        "2000-01-04 21:00:00 -3.000000e-08     10000000.0             0.0   \n",
        "2000-01-05 21:00:00  3.300000e-07      9999754.8           244.9   \n",
        "2000-01-06 21:00:00 -4.329999e-06      9999506.0           497.0   \n",
        "2000-01-07 21:00:00  3.210013e-06      9999278.7           681.0   \n",
        "\n",
        "                                                          transactions  \n",
        "2000-01-03 21:00:00                                                 []  \n",
        "2000-01-04 21:00:00  [{u'commission': 0.3, u'amount': 10, u'sid': u...  \n",
        "2000-01-05 21:00:00  [{u'commission': 0.3, u'amount': 10, u'sid': u...  \n",
        "2000-01-06 21:00:00  [{u'commission': 0.3, u'amount': 10, u'sid': u...  \n",
        "2000-01-07 21:00:00  [{u'commission': 0.3, u'amount': 10, u'sid': u...  "
       ]
      }
     ],
     "prompt_number": 8
    },
    {
     "cell_type": "markdown",
     "metadata": {},
     "source": [
      "### Manual (advanced)\n",
      "\n",
      "If you are happy with either way above you can safely skip this passage. To provide a closer look at how `zipline` actually works it is instructive to see how we run an algorithm without any of the interfaces demonstrated above which hide the actual `zipline` API."
     ]
    },
    {
     "cell_type": "code",
     "collapsed": false,
     "input": [
      "import pytz\n",
      "from datetime import datetime\n",
      "\n",
      "from zipline.algorithm import TradingAlgorithm\n",
      "from zipline.utils.factory import load_bars_from_yahoo\n",
      "\n",
      "# Load data manually from Yahoo! finance\n",
      "start = datetime(2000, 1, 1, 0, 0, 0, 0, pytz.utc)\n",
      "end = datetime(2012, 1, 1, 0, 0, 0, 0, pytz.utc)\n",
      "data = load_bars_from_yahoo(stocks=['AAPL'], start=start,\n",
      "                            end=end)\n",
      "\n",
      "# Define algorithm\n",
      "def initialize(context):\n",
      "    pass\n",
      "\n",
      "def handle_data(context, data):\n",
      "    order(symbol('AAPL'), 10)\n",
      "    record(AAPL=data[symbol('AAPL')].price)\n",
      "\n",
      "# Create algorithm object passing in initialize and\n",
      "# handle_data functions\n",
      "algo_obj = TradingAlgorithm(initialize=initialize, \n",
      "                            handle_data=handle_data)\n",
      "\n",
      "# Run algorithm\n",
      "perf_manual = algo_obj.run(data)"
     ],
     "language": "python",
     "metadata": {},
     "outputs": [
      {
       "output_type": "stream",
       "stream": "stderr",
       "text": [
        "[2014-07-25 17:12] INFO: Performance: Simulated 3019 trading days out of 3019.\n"
       ]
      },
      {
       "output_type": "stream",
       "stream": "stderr",
       "text": [
        "[2014-07-25 17:12] INFO: Performance: first open: 2000-01-03 14:31:00+00:00\n"
       ]
      },
      {
       "output_type": "stream",
       "stream": "stderr",
       "text": [
        "[2014-07-25 17:12] INFO: Performance: last close: 2011-12-30 21:00:00+00:00\n"
       ]
      },
      {
       "output_type": "stream",
       "stream": "stdout",
       "text": [
        "AAPL\n"
       ]
      }
     ],
     "prompt_number": 9
    },
    {
     "cell_type": "markdown",
     "metadata": {},
     "source": [
      "As you can see, we again define the functions as above but we manually pass them to the `TradingAlgorithm` class which is the main `zipline` class for running algorithms. We also manually load the data using `load_bars_from_yahoo()` and pass it to the `TradingAlgorithm.run()` method which kicks off the backtest simulation."
     ]
    },
    {
     "cell_type": "markdown",
     "metadata": {},
     "source": [
      "##Access to previous prices using `history`\n",
      "\n",
      "###Working example: Dual Moving Average Cross-Over\n",
      "\n",
      "The Dual Moving Average (DMA) is a classic momentum strategy. It's probably not used by any serious trader anymore but is still very instructive. The basic idea is that we compute two rolling or moving averages (mavg) -- one with a longer window that is supposed to capture long-term trends and one shorter window that is supposed to capture short-term trends. Once the short-mavg crosses the long-mavg from below we assume that the stock price has upwards momentum and long the stock. If the short-mavg crosses from above we exit the positions as we assume the stock to go down further.\n",
      "\n",
      "As we need to have access to previous prices to implement this strategy we need a new concept: History\n",
      "\n",
      "`history()` is a convenience function that keeps a rolling window of data for you. The first argument is the number of bars you want to collect, the second argument is the unit (either `'1d'` for `'1m'` but note that you need to have minute-level data for using `1m`). For a more detailed description `history()`'s features, see the [Quantopian docs](https://www.quantopian.com/help#ide-history). While you can directly use the `history()` function on Quantopian, in `zipline` you have to register each history container you want to use with `add_history()` and pass it the same arguments as the history function below. Lets look at the strategy which should make this clear:"
     ]
    },
    {
     "cell_type": "code",
     "collapsed": false,
     "input": [
      "%%zipline --start 2000-1-1 --end 2014-1-1 --symbols AAPL -o perf_dma\n",
      "\n",
      "from zipline.api import order_target, record, symbol, history, add_history\n",
      "import numpy as np\n",
      "\n",
      "def initialize(context):\n",
      "    # Register 2 histories that track daily prices, \n",
      "    # one with a 100 window and one with a 300 day window\n",
      "    add_history(50, '1d', 'price')\n",
      "    add_history(200, '1d', 'price')\n",
      "    \n",
      "    context.i = 0\n",
      "\n",
      "def handle_data(context, data):\n",
      "    # Skip first 200 days to get full windows\n",
      "    context.i += 1\n",
      "    if context.i < 200:\n",
      "        return\n",
      "\n",
      "    # Compute averages\n",
      "    # history() has to be called with the same params\n",
      "    # from above and returns a pandas dataframe.\n",
      "    short_mavg = history(50, '1d', 'price').mean()\n",
      "    long_mavg = history(200, '1d', 'price').mean()\n",
      "\n",
      "    # Trading logic\n",
      "    if short_mavg[0] > long_mavg[0]:\n",
      "        # order_target orders as many shares as needed to\n",
      "        # achieve the desired number of shares.\n",
      "        order_target(symbol('AAPL'), 100)\n",
      "    elif short_mavg[0] < long_mavg[0]:\n",
      "        order_target(symbol('AAPL'), 0)\n",
      "\n",
      "    # Save values for later inspection\n",
      "    record(AAPL=data[symbol('AAPL')].price,\n",
      "           short_mavg=short_mavg[0],\n",
      "           long_mavg=long_mavg[0])\n",
      "    \n",
      "def analyze(context, perf):\n",
      "    fig = plt.figure()\n",
      "    ax1 = fig.add_subplot(211)\n",
      "    perf.portfolio_value.plot(ax=ax1)\n",
      "    ax1.set_ylabel('portfolio value in $')\n",
      "\n",
      "    ax2 = fig.add_subplot(212)\n",
      "    perf['AAPL'].plot(ax=ax2)\n",
      "    perf[['short_mavg', 'long_mavg']].plot(ax=ax2)\n",
      "\n",
      "    perf_trans = perf.ix[[t != [] for t in perf.transactions]]\n",
      "    buys = perf_trans.ix[[t[0]['amount'] > 0 for t in perf_trans.transactions]]\n",
      "    sells = perf_trans.ix[\n",
      "        [t[0]['amount'] < 0 for t in perf_trans.transactions]]\n",
      "    ax2.plot(buys.index, perf.short_mavg.ix[buys.index],\n",
      "             '^', markersize=10, color='m')\n",
      "    ax2.plot(sells.index, perf.short_mavg.ix[sells.index],\n",
      "             'v', markersize=10, color='k')\n",
      "    ax2.set_ylabel('price in $')\n",
      "    plt.legend(loc=0)\n",
      "    plt.show()"
     ],
     "language": "python",
     "metadata": {},
     "outputs": []
    },
    {
     "cell_type": "markdown",
     "metadata": {},
     "source": [
      "Here we are explicitly defining an `analyze()` function that gets automatically called once the backtest is done (this is not possible on Quantopian currently).\n",
      "\n",
      "Although it might not be directly apparent, the power of `history()` (pun intended) can not be under-estimated as most algorithms make use of prior market developments in one form or another. You could easily devise a strategy that trains a classifier with [`scikit-learn`](http://scikit-learn.org/stable/) which tries to predict future market movements based on past prices (note, that most of the `scikit-learn` functions require `numpy.ndarray`s rather than `pandas.DataFrame`s, so you can simply pass the underlying `ndarray` of a `DataFrame` via `.values`).\n",
      "\n",
      "We also used the `order_target()` function above. This and other functions like it can make order management and portfolio rebalancing much easier. See the [Quantopian documentation on order functions](https://www.quantopian.com/help#api-order-methods) fore more details.\n",
      "\n",
      "# Conclusions\n",
      "\n",
      "We hope that this tutorial gave you a little insight into the architecture, API, and features of `zipline`. For next steps, check out some of the [examples](https://github.com/quantopian/zipline/tree/master/zipline/examples).\n",
      "\n",
      "Feel free to ask questions on [our mailing list](https://groups.google.com/forum/#!forum/zipline), report problems on our [GitHub issue tracker](https://github.com/quantopian/zipline/issues?state=open), [get involved](https://github.com/quantopian/zipline/wiki/Contribution-Requests), and [checkout Quantopian](https://quantopian.com)."
     ]
    }
   ],
   "metadata": {}
  }
 ]
}