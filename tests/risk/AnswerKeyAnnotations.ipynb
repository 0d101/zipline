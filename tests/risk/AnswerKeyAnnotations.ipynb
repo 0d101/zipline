{
 "metadata": {
  "name": "AnswerKeyAnnotations"
 },
 "nbformat": 3,
 "nbformat_minor": 0,
 "worksheets": [
  {
   "cells": [
    {
     "cell_type": "code",
     "collapsed": true,
     "input": [
      "#\n",
      "# Copyright 2013 Quantopian, Inc.\n",
      "#\n",
      "# Licensed under the Apache License, Version 2.0 (the \"License\");\n",
      "# you may not use this file except in compliance with the License.\n",
      "# You may obtain a copy of the License at\n",
      "#\n",
      "#     http://www.apache.org/licenses/LICENSE-2.0\n",
      "#\n",
      "# Unless required by applicable law or agreed to in writing, software\n",
      "# distributed under the License is distributed on an \"AS IS\" BASIS,\n",
      "# WITHOUT WARRANTIES OR CONDITIONS OF ANY KIND, either express or implied.\n",
      "# See the License for the specific language governing permissions and\n",
      "# limitations under the License.\n",
      "\n",
      "from annotation_utils import Markdown\n",
      "import answer_key"
     ],
     "language": "python",
     "outputs": []
    },
    {
     "cell_type": "code",
     "collapsed": false,
     "input": [
      "Markdown(\"\"\"\n",
      "Download link for latest answer key: [{latest_answer_key_url}]({latest_answer_key_url})\n",
      "\"\"\".format(latest_answer_key_url=answer_key.LATEST_ANSWER_KEY_URL))"
     ],
     "language": "python",
     "outputs": []
    }
   ]
  }
 ]
}